{
 "cells": [
  {
   "cell_type": "markdown",
   "metadata": {},
   "source": [
    "## Doświadczenie 1\n",
    "Kamera jest umieszczona w odległości 1 m od kartki ze znacznikami ArUco. W każdej iteracji zmienia się kąt pod jakim kamera widzi znaczniki. W pierwszym etapie doświadczenia w zasięgu kamery znajduje się tylko jeden znacznik, w drugim etapie 2 znaczniki, a w trzecim 6 znaczników. W każdym etapie położenie i kąt patrzenia kamery wyznaczany jest na podstawie innej modyfikacji algorytmu (biblioteka ArUco, algorytm PnP, algorytm PnP + CLAHE).\n",
    "\n",
    "Doświadczenie pozwoli sprawdzić, jaka jest skuteczność oceny odległości, pozycji i kąta w zależności od wybranego algorytmu oraz liczby znaczników rejestrowanych przez kamerę.\n",
    "\n",
    "Do doświadczenia wykorzystana została kamera Creative Webcam o rozdzielczości obrazu 640x480 pikseli."
   ]
  },
  {
   "cell_type": "markdown",
   "metadata": {},
   "source": [
    "### Aruco\n",
    "\n",
    "A4_sheet_angles"
   ]
  },
  {
   "cell_type": "markdown",
   "metadata": {},
   "source": [
    "## Doświadczenie 2\n",
    "\n",
    "Kamera jest umieszczona w odległości 1 m od kartki ze znacznikami ArUco. \n",
    "W każdej iteracji zmienia się kąt pod jakim kamera widzi znaczniki. W tym doświadczeniu zmienia się \n",
    "oświetlenie. W pierwszym przypadku jest to oświetlenie żółte, sufitowe z lamp, w drugim\n",
    "oświetlenie białe LED (takie jak latarka w telefonie). W trzecim przypadku wykorzystne zostały oba typy\n",
    "oświetlenia. W każdym przypadku parametry kamery zostały dopasowane automatycznymi algorytmami do zainstaniałych warunków\n",
    "(zmiana ISO, długości naświetlania itp.). W każdym etapie położenie i kąt patrzenia kamery wyznaczany jest na podstawie innej modyfikacji algorytmu (biblioteka ArUco, algorytm PnP, algorytm PnP + CLAHE).\n",
    "\n",
    "Doświadczenie pozwoli sprawdzić, jak oświetlenie wpływa na skuteczność oceny odległości, pozycji i kąta w zależności od wybranego algorytmu oraz liczby znaczników rejestrowanych przez kamerę.\n",
    "\n",
    "Do doświadczenia wykorzystana została kamera Creative Webcam o rozdzielczości obrazu 640x480 pikseli."
   ]
  },
  {
   "cell_type": "markdown",
   "metadata": {},
   "source": [
    "A4_sheet_light"
   ]
  },
  {
   "cell_type": "markdown",
   "metadata": {},
   "source": [
    "## Doświadczenie 3\n",
    "Algorytm ocenia odległość od znczników różnej wielkości. W tym doświadczeniu są 3 rodzaje znaczników.\n",
    "\n",
    "- znaczniki o boku 8 cm,\n",
    "- znaczniki o boku 2.6 cm,\n",
    "- znaczniki o boku 18.7 cm.\n",
    "\n",
    "Doświadczenie wygląda w ten sposób, że rozpoczynająć od odległości 10 cm od znacznika, kamera oddala się od niej za każdym razem dwukrotnie, aż do momentu kiedy na obrazie nie będzie się dało rozpoznać znacznika. W każdym etapie odległość kamery od znacznika wyznaczana jest na podstawie innej modyfikacji algorytmu (biblioteka ArUco, algorytm PnP, algorytm PnP + CLAHE).\n",
    "\n",
    "Do doświadczenia wykorzystana została kamera Creative Webcam o rozdzielczości obrazu 640x480 pikseli.\n"
   ]
  },
  {
   "cell_type": "markdown",
   "metadata": {},
   "source": [
    "distance"
   ]
  },
  {
   "cell_type": "markdown",
   "metadata": {},
   "source": [
    "## Doświadczenie 4\n",
    "Fingerprint"
   ]
  },
  {
   "cell_type": "markdown",
   "metadata": {},
   "source": [
    "fingerprinting"
   ]
  },
  {
   "cell_type": "markdown",
   "metadata": {},
   "source": [
    "## Doświadczenie 5\n",
    "\n",
    "Lokalizacja"
   ]
  },
  {
   "cell_type": "code",
   "execution_count": null,
   "metadata": {},
   "outputs": [],
   "source": []
  },
  {
   "cell_type": "markdown",
   "metadata": {},
   "source": [
    "## Doświadczenie 6\n",
    "Wariancja błędu"
   ]
  },
  {
   "cell_type": "markdown",
   "metadata": {},
   "source": [
    "variance"
   ]
  },
  {
   "cell_type": "code",
   "execution_count": null,
   "metadata": {},
   "outputs": [],
   "source": []
  },
  {
   "cell_type": "code",
   "execution_count": null,
   "metadata": {},
   "outputs": [],
   "source": []
  }
 ],
 "metadata": {
  "kernelspec": {
   "display_name": "Python 3",
   "language": "python",
   "name": "python3"
  },
  "language_info": {
   "codemirror_mode": {
    "name": "ipython",
    "version": 3
   },
   "file_extension": ".py",
   "mimetype": "text/x-python",
   "name": "python",
   "nbconvert_exporter": "python",
   "pygments_lexer": "ipython3",
   "version": "3.8.10"
  }
 },
 "nbformat": 4,
 "nbformat_minor": 4
}
